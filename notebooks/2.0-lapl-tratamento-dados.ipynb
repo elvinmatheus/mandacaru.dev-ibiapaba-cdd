{
 "cells": [
  {
   "cell_type": "markdown",
   "metadata": {},
   "source": [
    "# Tratamento de Dados"
   ]
  },
  {
   "cell_type": "markdown",
   "metadata": {},
   "source": [
    "## Importando as dependências"
   ]
  },
  {
   "cell_type": "code",
   "execution_count": 1,
   "metadata": {
    "tags": []
   },
   "outputs": [],
   "source": [
    "import pandas as pd\n",
    "from hydra import initialize, compose\n",
    "\n",
    "with initialize(version_base=None, config_path=\"../config/\"):\n",
    "    cfg = compose(config_name='main')"
   ]
  },
  {
   "cell_type": "markdown",
   "metadata": {},
   "source": [
    "- initialize(version_base=None, config_path=\"../config/\") inicia o Hydra.\n",
    "        version_base=None especifica que não há uma versão base definida.\n",
    "        config_path=\"../config/\" indica o caminho para o diretório contendo os arquivos de configuração.\n",
    "- compose(config_name='main') carrega o arquivo de configuração 'main' do diretório especificado.\n",
    "- cfg armazena as configurações carregadas do arquivo 'main'."
   ]
  },
  {
   "cell_type": "markdown",
   "metadata": {},
   "source": [
    "## Carregando o DataSet "
   ]
  },
  {
   "cell_type": "code",
   "execution_count": 2,
   "metadata": {
    "tags": []
   },
   "outputs": [],
   "source": [
    "df = pd.read_csv(f\"../{cfg.data.raw}\")"
   ]
  },
  {
   "cell_type": "markdown",
   "metadata": {},
   "source": [
    "- cfg.data.raw acessa a configuração carregada anteriormente através do Hydra, provavelmente contendo informações sobre o caminho do arquivo CSV a ser carregado.\n",
    "- f\"../{cfg.data.raw}\" constrói o caminho do arquivo CSV com base nas informações contidas na configuração carregada.\n",
    "- pd.read_csv() é uma função do pandas utilizada para ler arquivos CSV e carregar os dados em um DataFrame.\n",
    "- df armazena os dados do arquivo CSV no DataFrame."
   ]
  },
  {
   "cell_type": "markdown",
   "metadata": {},
   "source": [
    "## Tratamento dos dados"
   ]
  },
  {
   "cell_type": "code",
   "execution_count": 3,
   "metadata": {
    "tags": []
   },
   "outputs": [],
   "source": [
    "# Remover Dados Duplicados\n",
    "df_tratado = df.drop_duplicates()"
   ]
  },
  {
   "cell_type": "markdown",
   "metadata": {},
   "source": [
    "- df.drop_duplicates() é um método do pandas aplicado ao DataFrame df que remove as linhas duplicadas.\n",
    "- O DataFrame resultante é armazenado na variável df_tratado."
   ]
  },
  {
   "cell_type": "code",
   "execution_count": 4,
   "metadata": {
    "tags": []
   },
   "outputs": [],
   "source": [
    "# Remover Linhas sem valor/valor nulo\n",
    "df_tratado = df_tratado.dropna()"
   ]
  },
  {
   "cell_type": "markdown",
   "metadata": {},
   "source": [
    "- df_tratado.dropna() é um método do pandas aplicado ao DataFrame df_tratado que remove linhas contendo valores nulos.\n",
    "- O DataFrame resultante, sem os valores nulos, é armazenado novamente na variável df_tratado"
   ]
  },
  {
   "cell_type": "markdown",
   "metadata": {},
   "source": [
    "## Salvando os dados"
   ]
  },
  {
   "cell_type": "code",
   "execution_count": 5,
   "metadata": {
    "tags": []
   },
   "outputs": [],
   "source": [
    "df_tratado.to_csv(f\"../{cfg.data.interim}\", index=False)"
   ]
  },
  {
   "cell_type": "markdown",
   "metadata": {},
   "source": [
    "- df_tratado.to_csv() é um método do pandas utilizado para salvar o DataFrame em um arquivo CSV.\n",
    "- f\"../{cfg.data.interim}\" constrói o caminho do arquivo CSV de saída com base nas informações contidas na configuração carregada anteriormente.\n",
    "- index=False especifica que o índice do DataFrame não será salvo como uma coluna no arquivo CSV."
   ]
  }
 ],
 "metadata": {
  "kernelspec": {
   "display_name": "Python 3 (ipykernel)",
   "language": "python",
   "name": "python3"
  },
  "language_info": {
   "codemirror_mode": {
    "name": "ipython",
    "version": 3
   },
   "file_extension": ".py",
   "mimetype": "text/x-python",
   "name": "python",
   "nbconvert_exporter": "python",
   "pygments_lexer": "ipython3",
   "version": "3.10.11"
  }
 },
 "nbformat": 4,
 "nbformat_minor": 4
}
