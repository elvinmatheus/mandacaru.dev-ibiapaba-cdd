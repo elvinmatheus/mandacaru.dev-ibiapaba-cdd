{
 "cells": [
  {
   "cell_type": "markdown",
   "id": "826ce98b-4adc-43a8-a141-3a4d8dc7b52b",
   "metadata": {
    "tags": []
   },
   "source": [
    "# Seleção e treinamento"
   ]
  },
  {
   "cell_type": "markdown",
   "id": "f803086f-0776-494b-b6b3-e638fc2838ea",
   "metadata": {
    "tags": []
   },
   "source": [
    "## Importações"
   ]
  },
  {
   "cell_type": "code",
   "execution_count": 1,
   "id": "25299873-bac7-40a1-80d6-3782564f8e82",
   "metadata": {
    "tags": []
   },
   "outputs": [],
   "source": [
    "import pandas as pd\n",
    "import sklearn\n",
    "from hydra import initialize, compose\n",
    "from sklearn.model_selection import train_test_split\n",
    "from sklearn.feature_extraction.text import TfidfVectorizer, CountVectorizer\n",
    "from sklearn.preprocessing import OneHotEncoder\n",
    "from sklearn.preprocessing import StandardScaler\n",
    "from sklearn.naive_bayes import MultinomialNB\n",
    "from sklearn.svm import LinearSVC\n",
    "from sklearn.metrics import accuracy_score, precision_score, recall_score, f1_score\n",
    "from sklearn.neighbors import KNeighborsClassifier\n",
    "from sklearn.tree import DecisionTreeClassifier\n",
    "from sklearn.ensemble import RandomForestClassifier\n",
    "from sklearn.linear_model import LogisticRegression\n",
    "from sklearn.svm import SVC"
   ]
  },
  {
   "cell_type": "markdown",
   "id": "249c9035-225d-488a-8cb7-bb1d29252b9c",
   "metadata": {
    "tags": []
   },
   "source": [
    "## Configurações iniciais"
   ]
  },
  {
   "cell_type": "code",
   "execution_count": 2,
   "id": "b5a254a7-a718-4807-8b9c-59f53c015f4d",
   "metadata": {
    "tags": []
   },
   "outputs": [],
   "source": [
    "with initialize(version_base=None, config_path=\"../config/\"):\n",
    "    cfg = compose(config_name='main')\n",
    "    \n",
    "df = pd.read_csv(f\"../{cfg.data.processed}\")"
   ]
  },
  {
   "cell_type": "markdown",
   "id": "c878a590-437a-4a1f-8222-1f7cfb414f6d",
   "metadata": {
    "tags": []
   },
   "source": [
    "##### Importância de variáveis"
   ]
  },
  {
   "cell_type": "code",
   "execution_count": 26,
   "id": "b979eed1-f677-4a3b-b3a9-e8ec77a3d476",
   "metadata": {
    "tags": []
   },
   "outputs": [
    {
     "name": "stdout",
     "output_type": "stream",
     "text": [
      "('decreased', 0.6952588143032427)\n",
      "('short', 0.6427959626245119)\n",
      "('lower', 0.608285701216592)\n",
      "('fell', 0.5383668164959778)\n",
      "('fall', 0.4560871326187892)\n",
      "('rose', -0.3875909393045954)\n",
      "('increase', -0.34741050013696123)\n",
      "('business', -0.33609153845255824)\n",
      "('increased', -0.29286778602207486)\n",
      "('services', -0.289972809240041)\n"
     ]
    }
   ],
   "source": [
    "feature_to_coef = {\n",
    "    word: coef for word, coef in zip(\n",
    "        count_vec.get_feature_names_out(), final_model.coef_[0]\n",
    "    )\n",
    "}\n",
    "\n",
    "for best_positive in sorted(\n",
    "    feature_to_coef.items(), \n",
    "    key=lambda x: x[1], \n",
    "    reverse=True)[:5]:\n",
    "    print (best_positive)\n",
    "    \n",
    "for best_negative in sorted(\n",
    "    feature_to_coef.items(), \n",
    "    key=lambda x: x[1])[:5]:\n",
    "    print (best_negative)"
   ]
  },
  {
   "cell_type": "markdown",
   "id": "2b36c009-7740-4f0d-9f87-950db4675e25",
   "metadata": {},
   "source": [
    "##### Importância de variáveis"
   ]
  },
  {
   "cell_type": "code",
   "execution_count": 93,
   "id": "542e5cc7-6e62-40ef-8884-e86eb146ace0",
   "metadata": {
    "tags": []
   },
   "outputs": [
    {
     "name": "stdout",
     "output_type": "stream",
     "text": [
      "('disclose', 1.3281169301357885)\n",
      "('technology', 1.130759237038491)\n",
      "('full', 1.0355184771440253)\n",
      "('moving', 1.0135198546436532)\n",
      "('founders', 0.9892759356925733)\n",
      "('split', -0.7412451981975544)\n",
      "('karara', -0.6219360372942364)\n",
      "('soullor', -0.6069452890438308)\n",
      "('karczewicz', -0.5794196327184595)\n",
      "('synosia', -0.5318054468327866)\n"
     ]
    }
   ],
   "source": [
    "feature_to_coef = {\n",
    "    word: coef for word, coef in zip(\n",
    "        wc_vectorizer.get_feature_names_out(), final_model.coef_[0]\n",
    "    )\n",
    "}\n",
    "\n",
    "for best_positive in sorted(\n",
    "    feature_to_coef.items(), \n",
    "    key=lambda x: x[1], \n",
    "    reverse=True)[:5]:\n",
    "    print (best_positive)\n",
    "    \n",
    "for best_negative in sorted(\n",
    "    feature_to_coef.items(), \n",
    "    key=lambda x: x[1])[:5]:\n",
    "    print (best_negative)"
   ]
  },
  {
   "cell_type": "markdown",
   "id": "85395093-d9e6-409d-b2f1-5fa11a5d956d",
   "metadata": {},
   "source": [
    "### Importância de variáveis"
   ]
  },
  {
   "cell_type": "code",
   "execution_count": 31,
   "id": "15b3131a-eea7-4ced-9739-2416358ec5ce",
   "metadata": {
    "tags": []
   },
   "outputs": [
    {
     "name": "stdout",
     "output_type": "stream",
     "text": [
      "('decreas', 1.2934759873309167)\n",
      "('short', 1.141798721397832)\n",
      "('fell', 1.0398384296482561)\n",
      "('lower', 0.9974760458442409)\n",
      "('fall', 0.9862907535166991)\n",
      "('rose', -0.712635314491691)\n",
      "('increas', -0.6735653604109106)\n",
      "('servic', -0.5325790836249364)\n",
      "('offer', -0.4861027444871953)\n",
      "('strong', -0.4798587861220686)\n"
     ]
    }
   ],
   "source": [
    "feature_to_coef = {\n",
    "    word: coef for word, coef in zip(\n",
    "        count_vec.get_feature_names_out(), final_model.coef_[0]\n",
    "    )\n",
    "}\n",
    "\n",
    "for best_positive in sorted(\n",
    "    feature_to_coef.items(), \n",
    "    key=lambda x: x[1], \n",
    "    reverse=True)[:5]:\n",
    "    print (best_positive)\n",
    "    \n",
    "for best_negative in sorted(\n",
    "    feature_to_coef.items(), \n",
    "    key=lambda x: x[1])[:5]:\n",
    "    print (best_negative)"
   ]
  },
  {
   "cell_type": "code",
   "execution_count": 59,
   "id": "aadac4a2-a4a8-4d41-9a3e-4f0957c34674",
   "metadata": {
    "tags": []
   },
   "outputs": [],
   "source": [
    "ngram_vectorizer = CountVectorizer(binary=True, ngram_range=(1, 2))\n",
    "ngram_vectorizer.fit(cleaned_text)\n",
    "\n",
    "X = ngram_vectorizer.transform(cleaned_text)"
   ]
  },
  {
   "cell_type": "markdown",
   "id": "43ea3e76-8d13-4b4c-8346-e63dcb0d0d20",
   "metadata": {},
   "source": [
    "### Treino e teste"
   ]
  },
  {
   "cell_type": "code",
   "execution_count": 60,
   "id": "ef2ac507-172e-46d6-8764-8da4779c5474",
   "metadata": {
    "tags": []
   },
   "outputs": [],
   "source": [
    "y = df['encoded_sentiment']\n",
    "\n",
    "X_train, X_test, y_train, y_test = train_test_split(X, y, train_size = 0.7, random_state = 42)"
   ]
  },
  {
   "cell_type": "markdown",
   "id": "48528eec-c0b2-4f4a-86e8-195b0fd594a7",
   "metadata": {},
   "source": [
    "### Classificador"
   ]
  },
  {
   "cell_type": "markdown",
   "id": "24eb3710-e440-4174-9550-52cd9c95dd10",
   "metadata": {},
   "source": [
    "#### Regressão Logística"
   ]
  },
  {
   "cell_type": "code",
   "execution_count": 43,
   "id": "9ffc3624-9656-4f92-8d2d-99bedec662ce",
   "metadata": {
    "tags": []
   },
   "outputs": [
    {
     "name": "stdout",
     "output_type": "stream",
     "text": [
      "Accuracy for C=0.01: 0.6219303255282695\n",
      "Accuracy for C=0.05: 0.6693318103940605\n",
      "Accuracy for C=0.25: 0.6670474014848657\n",
      "Accuracy for C=0.5: 0.6647629925756711\n",
      "Accuracy for C=1: 0.6653340948029697\n"
     ]
    }
   ],
   "source": [
    "for c in [0.01, 0.05, 0.25, 0.5, 1]:\n",
    "    \n",
    "    lr = LogisticRegression(C=c, max_iter=1000)\n",
    "    lr.fit(X_train, y_train)\n",
    "    print (f\"Accuracy for C={c}: {accuracy_score(y_test, lr.predict(X_test))}\")"
   ]
  },
  {
   "cell_type": "markdown",
   "id": "190510af-c0a8-4e38-b5d7-c3a3249b7313",
   "metadata": {},
   "source": [
    "#### SVM"
   ]
  },
  {
   "cell_type": "code",
   "execution_count": 63,
   "id": "ae3f2cb2-15e5-4606-a65d-c4352f297959",
   "metadata": {
    "tags": []
   },
   "outputs": [
    {
     "name": "stderr",
     "output_type": "stream",
     "text": [
      "/home/elvinmatheus/.cache/pypoetry/virtualenvs/mandacaru-dev-ibiapaba-cdd-A0D9vqAR-py3.10/lib/python3.10/site-packages/sklearn/svm/_classes.py:32: FutureWarning: The default value of `dual` will change from `True` to `'auto'` in 1.5. Set the value of `dual` explicitly to suppress the warning.\n",
      "  warnings.warn(\n",
      "/home/elvinmatheus/.cache/pypoetry/virtualenvs/mandacaru-dev-ibiapaba-cdd-A0D9vqAR-py3.10/lib/python3.10/site-packages/sklearn/svm/_classes.py:32: FutureWarning: The default value of `dual` will change from `True` to `'auto'` in 1.5. Set the value of `dual` explicitly to suppress the warning.\n",
      "  warnings.warn(\n",
      "/home/elvinmatheus/.cache/pypoetry/virtualenvs/mandacaru-dev-ibiapaba-cdd-A0D9vqAR-py3.10/lib/python3.10/site-packages/sklearn/svm/_classes.py:32: FutureWarning: The default value of `dual` will change from `True` to `'auto'` in 1.5. Set the value of `dual` explicitly to suppress the warning.\n",
      "  warnings.warn(\n"
     ]
    },
    {
     "name": "stdout",
     "output_type": "stream",
     "text": [
      "Accuracy for C=0.01: 0.6699029126213593\n",
      "Accuracy for C=0.05: 0.6693318103940605\n",
      "Accuracy for C=0.25: 0.6721873215305539\n"
     ]
    },
    {
     "name": "stderr",
     "output_type": "stream",
     "text": [
      "/home/elvinmatheus/.cache/pypoetry/virtualenvs/mandacaru-dev-ibiapaba-cdd-A0D9vqAR-py3.10/lib/python3.10/site-packages/sklearn/svm/_classes.py:32: FutureWarning: The default value of `dual` will change from `True` to `'auto'` in 1.5. Set the value of `dual` explicitly to suppress the warning.\n",
      "  warnings.warn(\n"
     ]
    },
    {
     "name": "stdout",
     "output_type": "stream",
     "text": [
      "Accuracy for C=0.5: 0.6721873215305539\n"
     ]
    },
    {
     "name": "stderr",
     "output_type": "stream",
     "text": [
      "/home/elvinmatheus/.cache/pypoetry/virtualenvs/mandacaru-dev-ibiapaba-cdd-A0D9vqAR-py3.10/lib/python3.10/site-packages/sklearn/svm/_classes.py:32: FutureWarning: The default value of `dual` will change from `True` to `'auto'` in 1.5. Set the value of `dual` explicitly to suppress the warning.\n",
      "  warnings.warn(\n"
     ]
    },
    {
     "name": "stdout",
     "output_type": "stream",
     "text": [
      "Accuracy for C=1: 0.6704740148486579\n"
     ]
    }
   ],
   "source": [
    "for c in [0.01, 0.05, 0.25, 0.5, 1]:\n",
    "    \n",
    "    svm = LinearSVC(C=c)\n",
    "    svm.fit(X_train, y_train)\n",
    "    print (f\"Accuracy for C={c}: {accuracy_score(y_test, svm.predict(X_test))}\") "
   ]
  },
  {
   "cell_type": "markdown",
   "id": "68946f9d-d986-42e0-987d-2fa820779711",
   "metadata": {},
   "source": [
    "### Importância de variáveis"
   ]
  },
  {
   "cell_type": "code",
   "execution_count": 45,
   "id": "e59f0348-fe42-49bd-aec3-f1cf66cbc104",
   "metadata": {
    "tags": []
   },
   "outputs": [
    {
     "name": "stdout",
     "output_type": "stream",
     "text": [
      "('announced', 1.3281169301357885)\n",
      "('cncv reported', 1.130759237038491)\n",
      "('astrazenecas iressa', 1.0355184771440253)\n",
      "('bought more', 1.0135198546436532)\n",
      "('association', 0.9892759356925733)\n",
      "('china no', -0.7412451981975544)\n",
      "('beer bought', -0.6219360372942364)\n",
      "('chic', -0.6069452890438308)\n",
      "('beer brand', -0.5794196327184595)\n",
      "('close ready', -0.5318054468327866)\n"
     ]
    }
   ],
   "source": [
    "feature_to_coef = {\n",
    "    word: coef for word, coef in zip(\n",
    "        ngram_vectorizer.get_feature_names_out(), final_model.coef_[0]\n",
    "    )\n",
    "}\n",
    "\n",
    "for best_positive in sorted(\n",
    "    feature_to_coef.items(),\n",
    "    key=lambda x: x[1], \n",
    "    reverse=True)[:5]:\n",
    "    print (best_positive)\n",
    "    \n",
    "for best_negative in sorted(\n",
    "    feature_to_coef.items(), \n",
    "    key=lambda x: x[1])[:5]:\n",
    "    print (best_negative)"
   ]
  },
  {
   "cell_type": "markdown",
   "id": "e8855415-52a4-4bf4-9403-214bc13e8d19",
   "metadata": {
    "tags": []
   },
   "source": [
    "## Divisória"
   ]
  },
  {
   "cell_type": "code",
   "execution_count": 10,
   "id": "3b745035",
   "metadata": {},
   "outputs": [],
   "source": [
    "classifiers = {\n",
    "    'Multinomial Naive Bayes': MultinomialNB(),\n",
    "    'K-Nearest Neighbors': KNeighborsClassifier(),\n",
    "    'Decision Tree': DecisionTreeClassifier(),\n",
    "    'Random Forest': RandomForestClassifier(),\n",
    "    'Logistic Regression': LogisticRegression(max_iter=1000)\n",
    "}\n",
    "predictions = {}"
   ]
  },
  {
   "cell_type": "code",
   "execution_count": 12,
   "id": "34251e99",
   "metadata": {},
   "outputs": [],
   "source": [
    "for name, classifier in classifiers.items():\n",
    "    if name == 'Logistic Regression':\n",
    "        for c in [0.01, 0.05, 0.25, 0.5, 1]:\n",
    "            l = LogisticRegression(C=c, max_iter=1000)\n",
    "            l.fit(X_train_scaled, y_train)\n",
    "            y_pred = l.predict(X_test_scaled)\n",
    "            predictions[f'{name} (C={c})'] = y_pred\n",
    "    else:\n",
    "        classifier.fit(X_train, y_train)\n",
    "        y_pred = classifier.predict(X_test)\n",
    "        predictions[name] = y_pred"
   ]
  },
  {
   "cell_type": "markdown",
   "id": "6e676d4a-0931-4271-8f2f-94c9d14d4fd2",
   "metadata": {},
   "source": [
    "### Representações"
   ]
  },
  {
   "cell_type": "code",
   "execution_count": 8,
   "id": "a617bfb4",
   "metadata": {
    "scrolled": true
   },
   "outputs": [
    {
     "data": {
      "text/plain": [
       "<5836x9607 sparse matrix of type '<class 'numpy.float64'>'\n",
       "\twith 79167 stored elements in Compressed Sparse Row format>"
      ]
     },
     "execution_count": 8,
     "metadata": {},
     "output_type": "execute_result"
    }
   ],
   "source": [
    "tfidf = TfidfTransformer()\n",
    "tfidf.fit(X)\n",
    "tfidf.transform(X)"
   ]
  },
  {
   "cell_type": "code",
   "execution_count": 9,
   "id": "77ed5170",
   "metadata": {},
   "outputs": [],
   "source": [
    "scaler = StandardScaler(with_mean=False)\n",
    "X_train_scaled = scaler.fit_transform(X_train)\n",
    "X_test_scaled = scaler.transform(X_test)"
   ]
  },
  {
   "cell_type": "code",
   "execution_count": 11,
   "id": "1c62fd3a",
   "metadata": {},
   "outputs": [],
   "source": [
    "kernel_list = [\"linear\", \"poly\", \"rbf\", \"sigmoid\"]\n",
    "for kernel_item in kernel_list:\n",
    "    svm = SVC(kernel=kernel_item)\n",
    "    svm.fit(X_train_scaled, y_train)\n",
    "    y_pred_svm = svm.predict(X_test_scaled)\n",
    "    classifiers[f'SVM ({kernel_item} kernel)'] = svm\n",
    "    predictions[f'SVM ({kernel_item} kernel)'] = y_pred_svm"
   ]
  },
  {
   "cell_type": "code",
   "execution_count": 13,
   "id": "bdd140a5",
   "metadata": {},
   "outputs": [
    {
     "data": {
      "text/html": [
       "<div>\n",
       "<style scoped>\n",
       "    .dataframe tbody tr th:only-of-type {\n",
       "        vertical-align: middle;\n",
       "    }\n",
       "\n",
       "    .dataframe tbody tr th {\n",
       "        vertical-align: top;\n",
       "    }\n",
       "\n",
       "    .dataframe thead th {\n",
       "        text-align: right;\n",
       "    }\n",
       "</style>\n",
       "<table border=\"1\" class=\"dataframe\">\n",
       "  <thead>\n",
       "    <tr style=\"text-align: right;\">\n",
       "      <th></th>\n",
       "      <th>Classifier</th>\n",
       "      <th>Accuracy</th>\n",
       "      <th>Precision</th>\n",
       "      <th>Recall</th>\n",
       "      <th>F1 Score</th>\n",
       "    </tr>\n",
       "  </thead>\n",
       "  <tbody>\n",
       "    <tr>\n",
       "      <th>0</th>\n",
       "      <td>SVM (linear kernel)</td>\n",
       "      <td>0.661412</td>\n",
       "      <td>0.654569</td>\n",
       "      <td>0.661412</td>\n",
       "      <td>0.657494</td>\n",
       "    </tr>\n",
       "    <tr>\n",
       "      <th>1</th>\n",
       "      <td>SVM (poly kernel)</td>\n",
       "      <td>0.550377</td>\n",
       "      <td>0.572524</td>\n",
       "      <td>0.550377</td>\n",
       "      <td>0.452333</td>\n",
       "    </tr>\n",
       "    <tr>\n",
       "      <th>2</th>\n",
       "      <td>SVM (rbf kernel)</td>\n",
       "      <td>0.700480</td>\n",
       "      <td>0.677315</td>\n",
       "      <td>0.700480</td>\n",
       "      <td>0.667049</td>\n",
       "    </tr>\n",
       "    <tr>\n",
       "      <th>3</th>\n",
       "      <td>SVM (sigmoid kernel)</td>\n",
       "      <td>0.656614</td>\n",
       "      <td>0.642783</td>\n",
       "      <td>0.656614</td>\n",
       "      <td>0.633146</td>\n",
       "    </tr>\n",
       "    <tr>\n",
       "      <th>4</th>\n",
       "      <td>Multinomial Naive Bayes</td>\n",
       "      <td>0.690199</td>\n",
       "      <td>0.684019</td>\n",
       "      <td>0.690199</td>\n",
       "      <td>0.685917</td>\n",
       "    </tr>\n",
       "    <tr>\n",
       "      <th>5</th>\n",
       "      <td>K-Nearest Neighbors</td>\n",
       "      <td>0.571624</td>\n",
       "      <td>0.548693</td>\n",
       "      <td>0.571624</td>\n",
       "      <td>0.556115</td>\n",
       "    </tr>\n",
       "    <tr>\n",
       "      <th>6</th>\n",
       "      <td>Decision Tree</td>\n",
       "      <td>0.601097</td>\n",
       "      <td>0.603640</td>\n",
       "      <td>0.601097</td>\n",
       "      <td>0.601667</td>\n",
       "    </tr>\n",
       "    <tr>\n",
       "      <th>7</th>\n",
       "      <td>Random Forest</td>\n",
       "      <td>0.647019</td>\n",
       "      <td>0.644738</td>\n",
       "      <td>0.647019</td>\n",
       "      <td>0.625991</td>\n",
       "    </tr>\n",
       "    <tr>\n",
       "      <th>8</th>\n",
       "      <td>Logistic Regression (C=0.01)</td>\n",
       "      <td>0.675805</td>\n",
       "      <td>0.660464</td>\n",
       "      <td>0.675805</td>\n",
       "      <td>0.663659</td>\n",
       "    </tr>\n",
       "    <tr>\n",
       "      <th>9</th>\n",
       "      <td>Logistic Regression (C=0.05)</td>\n",
       "      <td>0.667581</td>\n",
       "      <td>0.652132</td>\n",
       "      <td>0.667581</td>\n",
       "      <td>0.656899</td>\n",
       "    </tr>\n",
       "    <tr>\n",
       "      <th>10</th>\n",
       "      <td>Logistic Regression (C=0.25)</td>\n",
       "      <td>0.657300</td>\n",
       "      <td>0.644637</td>\n",
       "      <td>0.657300</td>\n",
       "      <td>0.649057</td>\n",
       "    </tr>\n",
       "    <tr>\n",
       "      <th>11</th>\n",
       "      <td>Logistic Regression (C=0.5)</td>\n",
       "      <td>0.653873</td>\n",
       "      <td>0.644281</td>\n",
       "      <td>0.653873</td>\n",
       "      <td>0.647646</td>\n",
       "    </tr>\n",
       "    <tr>\n",
       "      <th>12</th>\n",
       "      <td>Logistic Regression (C=1)</td>\n",
       "      <td>0.647019</td>\n",
       "      <td>0.640282</td>\n",
       "      <td>0.647019</td>\n",
       "      <td>0.642722</td>\n",
       "    </tr>\n",
       "  </tbody>\n",
       "</table>\n",
       "</div>"
      ],
      "text/plain": [
       "                      Classifier  Accuracy  Precision    Recall  F1 Score\n",
       "0            SVM (linear kernel)  0.661412   0.654569  0.661412  0.657494\n",
       "1              SVM (poly kernel)  0.550377   0.572524  0.550377  0.452333\n",
       "2               SVM (rbf kernel)  0.700480   0.677315  0.700480  0.667049\n",
       "3           SVM (sigmoid kernel)  0.656614   0.642783  0.656614  0.633146\n",
       "4        Multinomial Naive Bayes  0.690199   0.684019  0.690199  0.685917\n",
       "5            K-Nearest Neighbors  0.571624   0.548693  0.571624  0.556115\n",
       "6                  Decision Tree  0.601097   0.603640  0.601097  0.601667\n",
       "7                  Random Forest  0.647019   0.644738  0.647019  0.625991\n",
       "8   Logistic Regression (C=0.01)  0.675805   0.660464  0.675805  0.663659\n",
       "9   Logistic Regression (C=0.05)  0.667581   0.652132  0.667581  0.656899\n",
       "10  Logistic Regression (C=0.25)  0.657300   0.644637  0.657300  0.649057\n",
       "11   Logistic Regression (C=0.5)  0.653873   0.644281  0.653873  0.647646\n",
       "12     Logistic Regression (C=1)  0.647019   0.640282  0.647019  0.642722"
      ]
     },
     "execution_count": 13,
     "metadata": {},
     "output_type": "execute_result"
    }
   ],
   "source": [
    "metrics_data = []\n",
    "\n",
    "for name, y_pred in predictions.items():\n",
    "    y_true = y_test  # Substitua por seus rótulos reais\n",
    "\n",
    "    accuracy = accuracy_score(y_true, y_pred)\n",
    "    precision = precision_score(y_true, y_pred, average='weighted')\n",
    "    recall = recall_score(y_true, y_pred, average='weighted')\n",
    "    f1 = f1_score(y_true, y_pred, average='weighted')\n",
    "\n",
    "    metrics_data.append({\n",
    "        'Classifier': name,\n",
    "        'Accuracy': accuracy,\n",
    "        'Precision': precision,\n",
    "        'Recall': recall,\n",
    "        'F1 Score': f1\n",
    "    })\n",
    "metrics_df = pd.DataFrame(metrics_data)\n",
    "metrics_df"
   ]
  }
 ],
 "metadata": {
  "kernelspec": {
   "display_name": "Python 3 (ipykernel)",
   "language": "python",
   "name": "python3"
  },
  "language_info": {
   "codemirror_mode": {
    "name": "ipython",
    "version": 3
   },
   "file_extension": ".py",
   "mimetype": "text/x-python",
   "name": "python",
   "nbconvert_exporter": "python",
   "pygments_lexer": "ipython3",
   "version": "3.10.11"
  }
 },
 "nbformat": 4,
 "nbformat_minor": 5
}
