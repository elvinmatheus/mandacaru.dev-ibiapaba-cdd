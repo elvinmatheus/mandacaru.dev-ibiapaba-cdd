{
 "cells": [
  {
   "cell_type": "code",
   "execution_count": 1,
   "id": "25299873-bac7-40a1-80d6-3782564f8e82",
   "metadata": {},
   "outputs": [],
   "source": [
    "import pandas as pd\n",
    "import sklearn\n",
    "from hydra import initialize, compose\n",
    "from sklearn.model_selection import train_test_split\n",
    "from sklearn.feature_extraction.text import TfidfTransformer, CountVectorizer\n",
    "from sklearn.preprocessing import OneHotEncoder\n",
    "from sklearn.preprocessing import StandardScaler\n",
    "from sklearn.naive_bayes import MultinomialNB\n",
    "from sklearn.metrics import accuracy_score, precision_score, recall_score, f1_score\n",
    "from sklearn.neighbors import KNeighborsClassifier\n",
    "from sklearn.tree import DecisionTreeClassifier\n",
    "from sklearn.ensemble import RandomForestClassifier\n",
    "from sklearn.linear_model import LogisticRegression\n",
    "from sklearn.svm import SVC"
   ]
  },
  {
   "cell_type": "code",
   "execution_count": 2,
   "id": "b5a254a7-a718-4807-8b9c-59f53c015f4d",
   "metadata": {},
   "outputs": [],
   "source": [
    "with initialize(version_base=None, config_path=\"../config/\"):\n",
    "    cfg = compose(config_name='main')"
   ]
  },
  {
   "cell_type": "code",
   "execution_count": 3,
   "id": "365f0cec",
   "metadata": {},
   "outputs": [],
   "source": [
    "df = pd.read_csv(f\"../{cfg.data.processed}\")"
   ]
  },
  {
   "cell_type": "code",
   "execution_count": 4,
   "id": "6fd7da6d",
   "metadata": {},
   "outputs": [],
   "source": [
    "# encoder = OneHotEncoder()\n",
    "# y = pd.DataFrame(encoder.fit_transform(df[['Sentiment']]).toarray())\n",
    "df = df.replace({\"positive\":1,\"neutral\":0,\"negative\":-1})\n",
    "y = df['Sentiment']"
   ]
  },
  {
   "cell_type": "code",
   "execution_count": 5,
   "id": "da6d0990",
   "metadata": {
    "scrolled": true
   },
   "outputs": [
    {
     "data": {
      "text/plain": [
       "0       1\n",
       "1      -1\n",
       "2       1\n",
       "3       0\n",
       "4       0\n",
       "       ..\n",
       "5831   -1\n",
       "5832    0\n",
       "5833    0\n",
       "5834    0\n",
       "5835    1\n",
       "Name: Sentiment, Length: 5836, dtype: int64"
      ]
     },
     "execution_count": 5,
     "metadata": {},
     "output_type": "execute_result"
    }
   ],
   "source": [
    "y"
   ]
  },
  {
   "cell_type": "code",
   "execution_count": 6,
   "id": "1077e69e",
   "metadata": {
    "scrolled": true
   },
   "outputs": [],
   "source": [
    "count_vec = CountVectorizer()\n",
    "X = df['text']\n",
    "count_vec.fit(X)\n",
    "X = count_vec.transform(X)"
   ]
  },
  {
   "cell_type": "code",
   "execution_count": 7,
   "id": "b14f0bb3",
   "metadata": {},
   "outputs": [],
   "source": [
    "X_train, X_test, y_train, y_test = train_test_split(X, y, random_state = 1)"
   ]
  },
  {
   "cell_type": "code",
   "execution_count": 8,
   "id": "a617bfb4",
   "metadata": {
    "scrolled": true
   },
   "outputs": [
    {
     "data": {
      "text/plain": [
       "<5836x9607 sparse matrix of type '<class 'numpy.float64'>'\n",
       "\twith 79167 stored elements in Compressed Sparse Row format>"
      ]
     },
     "execution_count": 8,
     "metadata": {},
     "output_type": "execute_result"
    }
   ],
   "source": [
    "tfidf = TfidfTransformer()\n",
    "tfidf.fit(X)\n",
    "tfidf.transform(X)"
   ]
  },
  {
   "cell_type": "code",
   "execution_count": 9,
   "id": "77ed5170",
   "metadata": {},
   "outputs": [],
   "source": [
    "scaler = StandardScaler(with_mean=False)\n",
    "X_train_scaled = scaler.fit_transform(X_train)\n",
    "X_test_scaled = scaler.transform(X_test)"
   ]
  },
  {
   "cell_type": "code",
   "execution_count": 10,
   "id": "3b745035",
   "metadata": {},
   "outputs": [],
   "source": [
    "classifiers = {\n",
    "    'Multinomial Naive Bayes': MultinomialNB(),\n",
    "    'K-Nearest Neighbors': KNeighborsClassifier(),\n",
    "    'Decision Tree': DecisionTreeClassifier(),\n",
    "    'Random Forest': RandomForestClassifier(),\n",
    "    'Logistic Regression': LogisticRegression(max_iter=1000)\n",
    "}\n",
    "predictions = {}"
   ]
  },
  {
   "cell_type": "code",
   "execution_count": 11,
   "id": "1c62fd3a",
   "metadata": {},
   "outputs": [],
   "source": [
    "kernel_list = [\"linear\", \"poly\", \"rbf\", \"sigmoid\"]\n",
    "for kernel_item in kernel_list:\n",
    "    svm = SVC(kernel=kernel_item)\n",
    "    svm.fit(X_train_scaled, y_train)\n",
    "    y_pred_svm = svm.predict(X_test_scaled)\n",
    "    classifiers[f'SVM ({kernel_item} kernel)'] = svm\n",
    "    predictions[f'SVM ({kernel_item} kernel)'] = y_pred_svm"
   ]
  },
  {
   "cell_type": "code",
   "execution_count": 12,
   "id": "34251e99",
   "metadata": {},
   "outputs": [],
   "source": [
    "for name, classifier in classifiers.items():\n",
    "    if name == 'Logistic Regression':\n",
    "        for c in [0.01, 0.05, 0.25, 0.5, 1]:\n",
    "            l = LogisticRegression(C=c, max_iter=1000)\n",
    "            l.fit(X_train_scaled, y_train)\n",
    "            y_pred = l.predict(X_test_scaled)\n",
    "            predictions[f'{name} (C={c})'] = y_pred\n",
    "    else:\n",
    "        classifier.fit(X_train, y_train)\n",
    "        y_pred = classifier.predict(X_test)\n",
    "        predictions[name] = y_pred"
   ]
  },
  {
   "cell_type": "code",
   "execution_count": 13,
   "id": "bdd140a5",
   "metadata": {},
   "outputs": [
    {
     "data": {
      "text/html": [
       "<div>\n",
       "<style scoped>\n",
       "    .dataframe tbody tr th:only-of-type {\n",
       "        vertical-align: middle;\n",
       "    }\n",
       "\n",
       "    .dataframe tbody tr th {\n",
       "        vertical-align: top;\n",
       "    }\n",
       "\n",
       "    .dataframe thead th {\n",
       "        text-align: right;\n",
       "    }\n",
       "</style>\n",
       "<table border=\"1\" class=\"dataframe\">\n",
       "  <thead>\n",
       "    <tr style=\"text-align: right;\">\n",
       "      <th></th>\n",
       "      <th>Classifier</th>\n",
       "      <th>Accuracy</th>\n",
       "      <th>Precision</th>\n",
       "      <th>Recall</th>\n",
       "      <th>F1 Score</th>\n",
       "    </tr>\n",
       "  </thead>\n",
       "  <tbody>\n",
       "    <tr>\n",
       "      <th>0</th>\n",
       "      <td>SVM (linear kernel)</td>\n",
       "      <td>0.661412</td>\n",
       "      <td>0.654569</td>\n",
       "      <td>0.661412</td>\n",
       "      <td>0.657494</td>\n",
       "    </tr>\n",
       "    <tr>\n",
       "      <th>1</th>\n",
       "      <td>SVM (poly kernel)</td>\n",
       "      <td>0.550377</td>\n",
       "      <td>0.572524</td>\n",
       "      <td>0.550377</td>\n",
       "      <td>0.452333</td>\n",
       "    </tr>\n",
       "    <tr>\n",
       "      <th>2</th>\n",
       "      <td>SVM (rbf kernel)</td>\n",
       "      <td>0.700480</td>\n",
       "      <td>0.677315</td>\n",
       "      <td>0.700480</td>\n",
       "      <td>0.667049</td>\n",
       "    </tr>\n",
       "    <tr>\n",
       "      <th>3</th>\n",
       "      <td>SVM (sigmoid kernel)</td>\n",
       "      <td>0.656614</td>\n",
       "      <td>0.642783</td>\n",
       "      <td>0.656614</td>\n",
       "      <td>0.633146</td>\n",
       "    </tr>\n",
       "    <tr>\n",
       "      <th>4</th>\n",
       "      <td>Multinomial Naive Bayes</td>\n",
       "      <td>0.690199</td>\n",
       "      <td>0.684019</td>\n",
       "      <td>0.690199</td>\n",
       "      <td>0.685917</td>\n",
       "    </tr>\n",
       "    <tr>\n",
       "      <th>5</th>\n",
       "      <td>K-Nearest Neighbors</td>\n",
       "      <td>0.571624</td>\n",
       "      <td>0.548693</td>\n",
       "      <td>0.571624</td>\n",
       "      <td>0.556115</td>\n",
       "    </tr>\n",
       "    <tr>\n",
       "      <th>6</th>\n",
       "      <td>Decision Tree</td>\n",
       "      <td>0.601097</td>\n",
       "      <td>0.603640</td>\n",
       "      <td>0.601097</td>\n",
       "      <td>0.601667</td>\n",
       "    </tr>\n",
       "    <tr>\n",
       "      <th>7</th>\n",
       "      <td>Random Forest</td>\n",
       "      <td>0.647019</td>\n",
       "      <td>0.644738</td>\n",
       "      <td>0.647019</td>\n",
       "      <td>0.625991</td>\n",
       "    </tr>\n",
       "    <tr>\n",
       "      <th>8</th>\n",
       "      <td>Logistic Regression (C=0.01)</td>\n",
       "      <td>0.675805</td>\n",
       "      <td>0.660464</td>\n",
       "      <td>0.675805</td>\n",
       "      <td>0.663659</td>\n",
       "    </tr>\n",
       "    <tr>\n",
       "      <th>9</th>\n",
       "      <td>Logistic Regression (C=0.05)</td>\n",
       "      <td>0.667581</td>\n",
       "      <td>0.652132</td>\n",
       "      <td>0.667581</td>\n",
       "      <td>0.656899</td>\n",
       "    </tr>\n",
       "    <tr>\n",
       "      <th>10</th>\n",
       "      <td>Logistic Regression (C=0.25)</td>\n",
       "      <td>0.657300</td>\n",
       "      <td>0.644637</td>\n",
       "      <td>0.657300</td>\n",
       "      <td>0.649057</td>\n",
       "    </tr>\n",
       "    <tr>\n",
       "      <th>11</th>\n",
       "      <td>Logistic Regression (C=0.5)</td>\n",
       "      <td>0.653873</td>\n",
       "      <td>0.644281</td>\n",
       "      <td>0.653873</td>\n",
       "      <td>0.647646</td>\n",
       "    </tr>\n",
       "    <tr>\n",
       "      <th>12</th>\n",
       "      <td>Logistic Regression (C=1)</td>\n",
       "      <td>0.647019</td>\n",
       "      <td>0.640282</td>\n",
       "      <td>0.647019</td>\n",
       "      <td>0.642722</td>\n",
       "    </tr>\n",
       "  </tbody>\n",
       "</table>\n",
       "</div>"
      ],
      "text/plain": [
       "                      Classifier  Accuracy  Precision    Recall  F1 Score\n",
       "0            SVM (linear kernel)  0.661412   0.654569  0.661412  0.657494\n",
       "1              SVM (poly kernel)  0.550377   0.572524  0.550377  0.452333\n",
       "2               SVM (rbf kernel)  0.700480   0.677315  0.700480  0.667049\n",
       "3           SVM (sigmoid kernel)  0.656614   0.642783  0.656614  0.633146\n",
       "4        Multinomial Naive Bayes  0.690199   0.684019  0.690199  0.685917\n",
       "5            K-Nearest Neighbors  0.571624   0.548693  0.571624  0.556115\n",
       "6                  Decision Tree  0.601097   0.603640  0.601097  0.601667\n",
       "7                  Random Forest  0.647019   0.644738  0.647019  0.625991\n",
       "8   Logistic Regression (C=0.01)  0.675805   0.660464  0.675805  0.663659\n",
       "9   Logistic Regression (C=0.05)  0.667581   0.652132  0.667581  0.656899\n",
       "10  Logistic Regression (C=0.25)  0.657300   0.644637  0.657300  0.649057\n",
       "11   Logistic Regression (C=0.5)  0.653873   0.644281  0.653873  0.647646\n",
       "12     Logistic Regression (C=1)  0.647019   0.640282  0.647019  0.642722"
      ]
     },
     "execution_count": 13,
     "metadata": {},
     "output_type": "execute_result"
    }
   ],
   "source": [
    "metrics_data = []\n",
    "\n",
    "for name, y_pred in predictions.items():\n",
    "    y_true = y_test  # Substitua por seus rótulos reais\n",
    "\n",
    "    accuracy = accuracy_score(y_true, y_pred)\n",
    "    precision = precision_score(y_true, y_pred, average='weighted')\n",
    "    recall = recall_score(y_true, y_pred, average='weighted')\n",
    "    f1 = f1_score(y_true, y_pred, average='weighted')\n",
    "\n",
    "    metrics_data.append({\n",
    "        'Classifier': name,\n",
    "        'Accuracy': accuracy,\n",
    "        'Precision': precision,\n",
    "        'Recall': recall,\n",
    "        'F1 Score': f1\n",
    "    })\n",
    "metrics_df = pd.DataFrame(metrics_data)\n",
    "metrics_df"
   ]
  }
 ],
 "metadata": {
  "kernelspec": {
   "display_name": "Python 3 (ipykernel)",
   "language": "python",
   "name": "python3"
  },
  "language_info": {
   "codemirror_mode": {
    "name": "ipython",
    "version": 3
   },
   "file_extension": ".py",
   "mimetype": "text/x-python",
   "name": "python",
   "nbconvert_exporter": "python",
   "pygments_lexer": "ipython3",
   "version": "3.8.10"
  }
 },
 "nbformat": 4,
 "nbformat_minor": 5
}
